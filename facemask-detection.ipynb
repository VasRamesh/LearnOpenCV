{
 "cells": [
  {
   "cell_type": "code",
   "execution_count": 1,
   "id": "175ee86e",
   "metadata": {
    "_cell_guid": "b1076dfc-b9ad-4769-8c92-a6c4dae69d19",
    "_uuid": "8f2839f25d086af736a60e9eeb907d3b93b6e0e5",
    "execution": {
     "iopub.execute_input": "2023-07-14T21:32:47.689332Z",
     "iopub.status.busy": "2023-07-14T21:32:47.688977Z",
     "iopub.status.idle": "2023-07-14T21:32:58.390239Z",
     "shell.execute_reply": "2023-07-14T21:32:58.388704Z"
    },
    "papermill": {
     "duration": 10.709229,
     "end_time": "2023-07-14T21:32:58.393050",
     "exception": false,
     "start_time": "2023-07-14T21:32:47.683821",
     "status": "completed"
    },
    "tags": []
   },
   "outputs": [
    {
     "name": "stderr",
     "output_type": "stream",
     "text": [
      "/opt/conda/lib/python3.10/site-packages/tensorflow_io/python/ops/__init__.py:98: UserWarning: unable to load libtensorflow_io_plugins.so: unable to open file: libtensorflow_io_plugins.so, from paths: ['/opt/conda/lib/python3.10/site-packages/tensorflow_io/python/ops/libtensorflow_io_plugins.so']\n",
      "caused by: ['/opt/conda/lib/python3.10/site-packages/tensorflow_io/python/ops/libtensorflow_io_plugins.so: undefined symbol: _ZN3tsl6StatusC1EN10tensorflow5error4CodeESt17basic_string_viewIcSt11char_traitsIcEENS_14SourceLocationE']\n",
      "  warnings.warn(f\"unable to load libtensorflow_io_plugins.so: {e}\")\n",
      "/opt/conda/lib/python3.10/site-packages/tensorflow_io/python/ops/__init__.py:104: UserWarning: file system plugins are not loaded: unable to open file: libtensorflow_io.so, from paths: ['/opt/conda/lib/python3.10/site-packages/tensorflow_io/python/ops/libtensorflow_io.so']\n",
      "caused by: ['/opt/conda/lib/python3.10/site-packages/tensorflow_io/python/ops/libtensorflow_io.so: undefined symbol: _ZTVN10tensorflow13GcsFileSystemE']\n",
      "  warnings.warn(f\"file system plugins are not loaded: {e}\")\n"
     ]
    },
    {
     "name": "stdout",
     "output_type": "stream",
     "text": [
      "All Done!!\n"
     ]
    }
   ],
   "source": [
    "## Importing necessary dependencies & libraries \n",
    "import cv2 \n",
    "import numpy as np\n",
    "import pandas as pd\n",
    "import os\n",
    "import xml.etree.ElementTree as ET\n",
    "\n",
    "import tensorflow as tf\n",
    "from tensorflow.keras.preprocessing.image import ImageDataGenerator\n",
    "from tensorflow.keras.preprocessing import image\n",
    "from tensorflow.keras.optimizers import RMSprop\n",
    "\n",
    "print(\"All Done!!\")"
   ]
  },
  {
   "cell_type": "markdown",
   "id": "a4dedf2f",
   "metadata": {
    "papermill": {
     "duration": 0.002688,
     "end_time": "2023-07-14T21:32:58.398985",
     "exception": false,
     "start_time": "2023-07-14T21:32:58.396297",
     "status": "completed"
    },
    "tags": []
   },
   "source": [
    "# Getting the code into a panda's DataFrame"
   ]
  },
  {
   "cell_type": "code",
   "execution_count": 2,
   "id": "bcfc58f8",
   "metadata": {
    "execution": {
     "iopub.execute_input": "2023-07-14T21:32:58.406904Z",
     "iopub.status.busy": "2023-07-14T21:32:58.406197Z",
     "iopub.status.idle": "2023-07-14T21:33:04.487371Z",
     "shell.execute_reply": "2023-07-14T21:33:04.486464Z"
    },
    "papermill": {
     "duration": 6.087384,
     "end_time": "2023-07-14T21:33:04.489203",
     "exception": false,
     "start_time": "2023-07-14T21:32:58.401819",
     "status": "completed"
    },
    "tags": []
   },
   "outputs": [
    {
     "data": {
      "text/html": [
       "<div>\n",
       "<style scoped>\n",
       "    .dataframe tbody tr th:only-of-type {\n",
       "        vertical-align: middle;\n",
       "    }\n",
       "\n",
       "    .dataframe tbody tr th {\n",
       "        vertical-align: top;\n",
       "    }\n",
       "\n",
       "    .dataframe thead th {\n",
       "        text-align: right;\n",
       "    }\n",
       "</style>\n",
       "<table border=\"1\" class=\"dataframe\">\n",
       "  <thead>\n",
       "    <tr style=\"text-align: right;\">\n",
       "      <th></th>\n",
       "      <th>filename</th>\n",
       "      <th>object_id</th>\n",
       "      <th>mask_status</th>\n",
       "      <th>location_on_img</th>\n",
       "    </tr>\n",
       "  </thead>\n",
       "  <tbody>\n",
       "    <tr>\n",
       "      <th>978</th>\n",
       "      <td>maksssksksss0.png</td>\n",
       "      <td>0-0</td>\n",
       "      <td>without_mask</td>\n",
       "      <td>(79, 105, 109, 142)</td>\n",
       "    </tr>\n",
       "    <tr>\n",
       "      <th>979</th>\n",
       "      <td>maksssksksss0.png</td>\n",
       "      <td>0-1</td>\n",
       "      <td>with_mask</td>\n",
       "      <td>(185, 100, 226, 144)</td>\n",
       "    </tr>\n",
       "    <tr>\n",
       "      <th>980</th>\n",
       "      <td>maksssksksss0.png</td>\n",
       "      <td>0-2</td>\n",
       "      <td>without_mask</td>\n",
       "      <td>(325, 90, 360, 141)</td>\n",
       "    </tr>\n",
       "    <tr>\n",
       "      <th>3460</th>\n",
       "      <td>maksssksksss1.png</td>\n",
       "      <td>1-5</td>\n",
       "      <td>with_mask</td>\n",
       "      <td>(191, 67, 221, 93)</td>\n",
       "    </tr>\n",
       "    <tr>\n",
       "      <th>3461</th>\n",
       "      <td>maksssksksss1.png</td>\n",
       "      <td>1-6</td>\n",
       "      <td>with_mask</td>\n",
       "      <td>(21, 73, 44, 93)</td>\n",
       "    </tr>\n",
       "    <tr>\n",
       "      <th>...</th>\n",
       "      <td>...</td>\n",
       "      <td>...</td>\n",
       "      <td>...</td>\n",
       "      <td>...</td>\n",
       "    </tr>\n",
       "    <tr>\n",
       "      <th>3342</th>\n",
       "      <td>maksssksksss24.png</td>\n",
       "      <td>24-0</td>\n",
       "      <td>mask_weared_incorrect</td>\n",
       "      <td>(105, 76, 161, 116)</td>\n",
       "    </tr>\n",
       "    <tr>\n",
       "      <th>2972</th>\n",
       "      <td>maksssksksss25.png</td>\n",
       "      <td>25-0</td>\n",
       "      <td>with_mask</td>\n",
       "      <td>(122, 68, 195, 152)</td>\n",
       "    </tr>\n",
       "    <tr>\n",
       "      <th>1530</th>\n",
       "      <td>maksssksksss26.png</td>\n",
       "      <td>26-0</td>\n",
       "      <td>with_mask</td>\n",
       "      <td>(73, 87, 174, 206)</td>\n",
       "    </tr>\n",
       "    <tr>\n",
       "      <th>1531</th>\n",
       "      <td>maksssksksss26.png</td>\n",
       "      <td>26-1</td>\n",
       "      <td>with_mask</td>\n",
       "      <td>(245, 152, 327, 239)</td>\n",
       "    </tr>\n",
       "    <tr>\n",
       "      <th>2089</th>\n",
       "      <td>maksssksksss27.png</td>\n",
       "      <td>27-0</td>\n",
       "      <td>with_mask</td>\n",
       "      <td>(163, 88, 251, 185)</td>\n",
       "    </tr>\n",
       "  </tbody>\n",
       "</table>\n",
       "<p>100 rows × 4 columns</p>\n",
       "</div>"
      ],
      "text/plain": [
       "                filename object_id            mask_status  \\\n",
       "978    maksssksksss0.png       0-0           without_mask   \n",
       "979    maksssksksss0.png       0-1              with_mask   \n",
       "980    maksssksksss0.png       0-2           without_mask   \n",
       "3460   maksssksksss1.png       1-5              with_mask   \n",
       "3461   maksssksksss1.png       1-6              with_mask   \n",
       "...                  ...       ...                    ...   \n",
       "3342  maksssksksss24.png      24-0  mask_weared_incorrect   \n",
       "2972  maksssksksss25.png      25-0              with_mask   \n",
       "1530  maksssksksss26.png      26-0              with_mask   \n",
       "1531  maksssksksss26.png      26-1              with_mask   \n",
       "2089  maksssksksss27.png      27-0              with_mask   \n",
       "\n",
       "           location_on_img  \n",
       "978    (79, 105, 109, 142)  \n",
       "979   (185, 100, 226, 144)  \n",
       "980    (325, 90, 360, 141)  \n",
       "3460    (191, 67, 221, 93)  \n",
       "3461      (21, 73, 44, 93)  \n",
       "...                    ...  \n",
       "3342   (105, 76, 161, 116)  \n",
       "2972   (122, 68, 195, 152)  \n",
       "1530    (73, 87, 174, 206)  \n",
       "1531  (245, 152, 327, 239)  \n",
       "2089   (163, 88, 251, 185)  \n",
       "\n",
       "[100 rows x 4 columns]"
      ]
     },
     "execution_count": 2,
     "metadata": {},
     "output_type": "execute_result"
    }
   ],
   "source": [
    "# Put data into pandas dataframe: \n",
    "\n",
    "# Columns: file_name, object_id, mask_status, location_on_img\n",
    "data = {\n",
    "    'filename':[],# Picture object is in\n",
    "    'file_num':[],\n",
    "    'object_id':[],  # Unique ID formula = file_name number + '-' + Object number\n",
    "    'mask_status':[],  # with_mask, without_mask, mask_worn_incorrectly\n",
    "    'location_on_img':[]  # (xmin, ymin, xmax, ymax) --> square\n",
    "}\n",
    "\n",
    "\n",
    "directory_path = '/kaggle/input/face-mask-detection/annotations'\n",
    "xml_files = os.listdir(directory_path)\n",
    "\n",
    "def remove_char(string: str):\n",
    "    done = \"\"\n",
    "    for char in string: \n",
    "        if char=='1' or char=='2' or char=='3' or char=='4' or char=='5' or char=='6' or char=='7' or char=='8' or char=='9' or char=='0':\n",
    "            done = done + char\n",
    "    return done            \n",
    "\n",
    "def read_xml_file(xml_file):\n",
    "    tree = ET.parse(os.path.join(directory_path, xml_file))\n",
    "    root = tree.getroot()\n",
    "    file_name = root.find(\"filename\").text\n",
    "    \n",
    "    objects = root.findall('object')  # List of objects\n",
    "    for i, obj in enumerate(objects): \n",
    "        #print(str(len(objects)) + \" - \" + str(file_name) + \"-\" + str(i))\n",
    "        data['filename'].append(file_name)\n",
    "        data['object_id'].append(remove_char(file_name) + \"-\" + str(i)) \n",
    "        data['file_num'].append(remove_char(file_name))\n",
    "        data['mask_status'].append(obj.find('name').text)\n",
    "        data['location_on_img'].append((\n",
    "            int(obj.find('bndbox/xmin').text),\n",
    "            int(obj.find('bndbox/ymin').text),\n",
    "            int(obj.find('bndbox/xmax').text),\n",
    "            int(obj.find('bndbox/ymax').text)\n",
    "        ))\n",
    "                    \n",
    "for file in xml_files: \n",
    "    #print(file)\n",
    "    read_xml_file(file)\n",
    "    \n",
    "df = pd.DataFrame(data)\n",
    "df['file_num'] = pd.to_numeric(df['file_num'])\n",
    "df = df.sort_values('file_num')\n",
    "del df['file_num']\n",
    "\n",
    "# Uncomment to display DataFrame\n",
    "df.head(100)\n",
    "\n",
    "    "
   ]
  },
  {
   "cell_type": "markdown",
   "id": "3c7d18fe",
   "metadata": {
    "papermill": {
     "duration": 0.002572,
     "end_time": "2023-07-14T21:33:04.494795",
     "exception": false,
     "start_time": "2023-07-14T21:33:04.492223",
     "status": "completed"
    },
    "tags": []
   },
   "source": [
    "## Visualize some faces & respective \"mask_status\" "
   ]
  },
  {
   "cell_type": "code",
   "execution_count": 3,
   "id": "197345e9",
   "metadata": {
    "execution": {
     "iopub.execute_input": "2023-07-14T21:33:04.502363Z",
     "iopub.status.busy": "2023-07-14T21:33:04.501430Z",
     "iopub.status.idle": "2023-07-14T21:33:06.299129Z",
     "shell.execute_reply": "2023-07-14T21:33:06.298093Z"
    },
    "papermill": {
     "duration": 1.803575,
     "end_time": "2023-07-14T21:33:06.301072",
     "exception": false,
     "start_time": "2023-07-14T21:33:04.497497",
     "status": "completed"
    },
    "tags": []
   },
   "outputs": [
    {
     "data": {
      "image/png": "[encoded data removed]",
      "text/plain": [
       "<Figure size 1000x1000 with 9 Axes>"
      ]
     },
     "metadata": {},
     "output_type": "display_data"
    }
   ],
   "source": [
    "import matplotlib.pyplot as plt\n",
    "import random\n",
    "\n",
    "img_dir_path = \"/kaggle/input/face-mask-detection/images\"\n",
    "\n",
    "plt.figure(figsize=(10,10))\n",
    "for i in range(0,9):\n",
    "    random_num = random.randint(0,len(df))\n",
    "    plt.subplot(3,3,i+1)\n",
    "    img = cv2.imread(img_dir_path + \"/\" + str(df.loc[random_num, \"filename\"]))\n",
    "    \n",
    "    #x1, y1, x2, y2 == coord[0][1][2][3]\n",
    "    coord = tuple(df.loc[random_num, 'location_on_img'])\n",
    "    face = img[coord[1]:coord[3], coord[0]:coord[2]]\n",
    "    plt.imshow(cv2.cvtColor(face, cv2.COLOR_RGB2BGR))\n",
    "    plt.title(df.loc[random_num, 'mask_status'], size = 15)\n",
    "\n",
    "plt.show()\n",
    "    "
   ]
  },
  {
   "cell_type": "markdown",
   "id": "c451bb0d",
   "metadata": {
    "papermill": {
     "duration": 0.003746,
     "end_time": "2023-07-14T21:33:06.309242",
     "exception": false,
     "start_time": "2023-07-14T21:33:06.305496",
     "status": "completed"
    },
    "tags": []
   },
   "source": [
    "## Splitting the Data into Testing and Training\n",
    " Remember to insert the actual images into the train_test_split --> This takes some time to run"
   ]
  },
  {
   "cell_type": "code",
   "execution_count": 4,
   "id": "4e064dd6",
   "metadata": {
    "execution": {
     "iopub.execute_input": "2023-07-14T21:33:06.319087Z",
     "iopub.status.busy": "2023-07-14T21:33:06.318694Z",
     "iopub.status.idle": "2023-07-14T21:34:09.466899Z",
     "shell.execute_reply": "2023-07-14T21:34:09.466036Z"
    },
    "papermill": {
     "duration": 63.160449,
     "end_time": "2023-07-14T21:34:09.473495",
     "exception": false,
     "start_time": "2023-07-14T21:33:06.313046",
     "status": "completed"
    },
    "tags": []
   },
   "outputs": [
    {
     "name": "stderr",
     "output_type": "stream",
     "text": [
      "libpng warning: iCCP: Not recognizing known sRGB profile that has been edited\n",
      "libpng warning: iCCP: Not recognizing known sRGB profile that has been edited\n",
      "libpng warning: iCCP: Not recognizing known sRGB profile that has been edited\n",
      "libpng warning: iCCP: Not recognizing known sRGB profile that has been edited\n",
      "libpng warning: iCCP: Not recognizing known sRGB profile that has been edited\n"
     ]
    },
    {
     "name": "stdout",
     "output_type": "stream",
     "text": [
      "(6464, 2)\n"
     ]
    },
    {
     "name": "stderr",
     "output_type": "stream",
     "text": [
      "/tmp/ipykernel_20/4162110932.py:17: VisibleDeprecationWarning: Creating an ndarray from ragged nested sequences (which is a list-or-tuple of lists-or-tuples-or ndarrays with different lengths or shapes) is deprecated. If you meant to do this, you must specify 'dtype=object' when creating the ndarray.\n",
      "  dataset = np.array(image_data)\n"
     ]
    }
   ],
   "source": [
    "from sklearn.model_selection import train_test_split\n",
    "\n",
    "# Read and preprocess the images\n",
    "image_data = []\n",
    "img_dir_path = '/kaggle/input/face-mask-detection/images'\n",
    "for i, file_name in enumerate(df['filename']):\n",
    "    image = cv2.imread(img_dir_path + \"/\" + str(file_name), cv2.IMREAD_GRAYSCALE)  # Read the image using OpenCV\n",
    "    \n",
    "    # Perform any necessary preprocessing steps, such as resizing or normalizing the image\n",
    "    preprocessed_image = cv2.resize(image, (150,150))\n",
    "    if df['mask_status'][i] == \"with_mask\":\n",
    "        image_data.append([preprocessed_image, 1]) # 1 Appended if subject has mask\n",
    "#     else: \n",
    "        image_data.append([preprocessed_image, 0]) # 0 Appended if subject does not have mask/worn incorrectly\n",
    "\n",
    "# Convert the list of preprocessed images into a numpy array\n",
    "dataset = np.array(image_data)\n",
    "\n",
    "# Print the shape of X to verify\n",
    "print(dataset.shape)\n",
    "\n",
    "# labels = df['mask_status']  \n",
    "# x_train, x_test, y_train, y_test = train_test_split(pictures, labels, test_size=0.2, random_state=50)  # 80% Train, 20% Test\n"
   ]
  },
  {
   "cell_type": "code",
   "execution_count": 5,
   "id": "3d12d6c6",
   "metadata": {
    "execution": {
     "iopub.execute_input": "2023-07-14T21:34:09.483781Z",
     "iopub.status.busy": "2023-07-14T21:34:09.483316Z",
     "iopub.status.idle": "2023-07-14T21:34:09.492523Z",
     "shell.execute_reply": "2023-07-14T21:34:09.491071Z"
    },
    "papermill": {
     "duration": 0.01716,
     "end_time": "2023-07-14T21:34:09.494786",
     "exception": false,
     "start_time": "2023-07-14T21:34:09.477626",
     "status": "completed"
    },
    "tags": []
   },
   "outputs": [
    {
     "name": "stdout",
     "output_type": "stream",
     "text": [
      "[[array([[99, 88, 71, ..., 26, 25, 78],\n",
      "         [86, 81, 67, ..., 28, 21, 63],\n",
      "         [82, 79, 65, ..., 27, 31, 67],\n",
      "         ...,\n",
      "         [85, 87, 84, ..., 28, 28, 28],\n",
      "         [83, 86, 82, ..., 28, 28, 28],\n",
      "         [91, 97, 97, ..., 34, 29, 28]], dtype=uint8) 1]\n",
      " [array([[99, 88, 71, ..., 26, 25, 78],\n",
      "         [86, 81, 67, ..., 28, 21, 63],\n",
      "         [82, 79, 65, ..., 27, 31, 67],\n",
      "         ...,\n",
      "         [85, 87, 84, ..., 28, 28, 28],\n",
      "         [83, 86, 82, ..., 28, 28, 28],\n",
      "         [91, 97, 97, ..., 34, 29, 28]], dtype=uint8) 0]\n",
      " [array([[99, 88, 71, ..., 26, 25, 78],\n",
      "         [86, 81, 67, ..., 28, 21, 63],\n",
      "         [82, 79, 65, ..., 27, 31, 67],\n",
      "         ...,\n",
      "         [85, 87, 84, ..., 28, 28, 28],\n",
      "         [83, 86, 82, ..., 28, 28, 28],\n",
      "         [91, 97, 97, ..., 34, 29, 28]], dtype=uint8) 1]\n",
      " [array([[99, 88, 71, ..., 26, 25, 78],\n",
      "         [86, 81, 67, ..., 28, 21, 63],\n",
      "         [82, 79, 65, ..., 27, 31, 67],\n",
      "         ...,\n",
      "         [85, 87, 84, ..., 28, 28, 28],\n",
      "         [83, 86, 82, ..., 28, 28, 28],\n",
      "         [91, 97, 97, ..., 34, 29, 28]], dtype=uint8) 0]\n",
      " [array([[138, 138, 139, ..., 217, 222, 230],\n",
      "         [140, 139, 141, ..., 217, 223, 231],\n",
      "         [141, 140, 142, ..., 218, 224, 232],\n",
      "         ...,\n",
      "         [ 45,  32,  29, ..., 145,  44,  35],\n",
      "         [ 46,  31,  29, ..., 121,  37,  36],\n",
      "         [ 46,  31,  28, ...,  93,  35,  35]], dtype=uint8) 1]\n",
      " [array([[138, 138, 139, ..., 217, 222, 230],\n",
      "         [140, 139, 141, ..., 217, 223, 231],\n",
      "         [141, 140, 142, ..., 218, 224, 232],\n",
      "         ...,\n",
      "         [ 45,  32,  29, ..., 145,  44,  35],\n",
      "         [ 46,  31,  29, ..., 121,  37,  36],\n",
      "         [ 46,  31,  28, ...,  93,  35,  35]], dtype=uint8) 0]\n",
      " [array([[138, 138, 139, ..., 217, 222, 230],\n",
      "         [140, 139, 141, ..., 217, 223, 231],\n",
      "         [141, 140, 142, ..., 218, 224, 232],\n",
      "         ...,\n",
      "         [ 45,  32,  29, ..., 145,  44,  35],\n",
      "         [ 46,  31,  29, ..., 121,  37,  36],\n",
      "         [ 46,  31,  28, ...,  93,  35,  35]], dtype=uint8) 1]\n",
      " [array([[138, 138, 139, ..., 217, 222, 230],\n",
      "         [140, 139, 141, ..., 217, 223, 231],\n",
      "         [141, 140, 142, ..., 218, 224, 232],\n",
      "         ...,\n",
      "         [ 45,  32,  29, ..., 145,  44,  35],\n",
      "         [ 46,  31,  29, ..., 121,  37,  36],\n",
      "         [ 46,  31,  28, ...,  93,  35,  35]], dtype=uint8) 0]\n",
      " [array([[138, 138, 139, ..., 217, 222, 230],\n",
      "         [140, 139, 141, ..., 217, 223, 231],\n",
      "         [141, 140, 142, ..., 218, 224, 232],\n",
      "         ...,\n",
      "         [ 45,  32,  29, ..., 145,  44,  35],\n",
      "         [ 46,  31,  29, ..., 121,  37,  36],\n",
      "         [ 46,  31,  28, ...,  93,  35,  35]], dtype=uint8) 1]\n",
      " [array([[138, 138, 139, ..., 217, 222, 230],\n",
      "         [140, 139, 141, ..., 217, 223, 231],\n",
      "         [141, 140, 142, ..., 218, 224, 232],\n",
      "         ...,\n",
      "         [ 45,  32,  29, ..., 145,  44,  35],\n",
      "         [ 46,  31,  29, ..., 121,  37,  36],\n",
      "         [ 46,  31,  28, ...,  93,  35,  35]], dtype=uint8) 0]]\n"
     ]
    }
   ],
   "source": [
    "\n",
    "print(dataset[:10])"
   ]
  },
  {
   "cell_type": "markdown",
   "id": "641b2a92",
   "metadata": {
    "papermill": {
     "duration": 0.004167,
     "end_time": "2023-07-14T21:34:09.503670",
     "exception": false,
     "start_time": "2023-07-14T21:34:09.499503",
     "status": "completed"
    },
    "tags": []
   },
   "source": [
    "## Building the CNN Model Architecture "
   ]
  },
  {
   "cell_type": "code",
   "execution_count": 6,
   "id": "deb2f6d6",
   "metadata": {
    "execution": {
     "iopub.execute_input": "2023-07-14T21:34:09.516179Z",
     "iopub.status.busy": "2023-07-14T21:34:09.514011Z",
     "iopub.status.idle": "2023-07-14T21:34:09.811328Z",
     "shell.execute_reply": "2023-07-14T21:34:09.809921Z"
    },
    "papermill": {
     "duration": 0.305314,
     "end_time": "2023-07-14T21:34:09.813383",
     "exception": false,
     "start_time": "2023-07-14T21:34:09.508069",
     "status": "completed"
    },
    "tags": []
   },
   "outputs": [
    {
     "name": "stdout",
     "output_type": "stream",
     "text": [
      "Model: \"sequential\"\n",
      "_________________________________________________________________\n",
      " Layer (type)                Output Shape              Param #   \n",
      "=================================================================\n",
      " conv2d (Conv2D)             (None, 148, 148, 32)      896       \n",
      "                                                                 \n",
      " max_pooling2d (MaxPooling2D  (None, 74, 74, 32)       0         \n",
      " )                                                               \n",
      "                                                                 \n",
      " conv2d_1 (Conv2D)           (None, 72, 72, 64)        18496     \n",
      "                                                                 \n",
      " max_pooling2d_1 (MaxPooling  (None, 36, 36, 64)       0         \n",
      " 2D)                                                             \n",
      "                                                                 \n",
      " flatten (Flatten)           (None, 82944)             0         \n",
      "                                                                 \n",
      " dense (Dense)               (None, 64)                5308480   \n",
      "                                                                 \n",
      " dense_1 (Dense)             (None, 3)                 195       \n",
      "                                                                 \n",
      "=================================================================\n",
      "Total params: 5,328,067\n",
      "Trainable params: 5,328,067\n",
      "Non-trainable params: 0\n",
      "_________________________________________________________________\n"
     ]
    }
   ],
   "source": [
    "image_height = 150\n",
    "image_width = 150\n",
    "num_channels = 3\n",
    "num_classes = 3\n",
    "\n",
    "# Define the CNN model architecture\n",
    "model = tf.keras.Sequential([\n",
    "    tf.keras.layers.Conv2D(32, (3, 3), activation='relu', input_shape=(image_height, image_width, num_channels)),\n",
    "    tf.keras.layers.MaxPooling2D((2, 2)),\n",
    "    tf.keras.layers.Conv2D(64, (3, 3), activation='relu'),\n",
    "    tf.keras.layers.MaxPooling2D((2, 2)),\n",
    "    tf.keras.layers.Flatten(),\n",
    "    tf.keras.layers.Dense(64, activation='relu'),\n",
    "    tf.keras.layers.Dense(num_classes, activation='softmax')\n",
    "])\n",
    "\n",
    "# Compile the model\n",
    "model.compile(optimizer='adam',\n",
    "              loss=tf.keras.losses.SparseCategoricalCrossentropy(from_logits=True),\n",
    "              metrics=['accuracy'])\n",
    "\n",
    "# Print the model summary\n",
    "model.summary()\n"
   ]
  }
 ],
 "metadata": {
  "kernelspec": {
   "display_name": "Python 3",
   "language": "python",
   "name": "python3"
  },
  "language_info": {
   "codemirror_mode": {
    "name": "ipython",
    "version": 3
   },
   "file_extension": ".py",
   "mimetype": "text/x-python",
   "name": "python",
   "nbconvert_exporter": "python",
   "pygments_lexer": "ipython3",
   "version": "3.10.10"
  },
  "papermill": {
   "default_parameters": {},
   "duration": 97.343477,
   "end_time": "2023-07-14T21:34:12.893186",
   "environment_variables": {},
   "exception": null,
   "input_path": "__notebook__.ipynb",
   "output_path": "__notebook__.ipynb",
   "parameters": {},
   "start_time": "2023-07-14T21:32:35.549709",
   "version": "2.4.0"
  }
 },
 "nbformat": 4,
 "nbformat_minor": 5
}
