{
 "cells": [
  {
   "cell_type": "code",
   "execution_count": 1,
   "id": "6a4dfd44",
   "metadata": {
    "_cell_guid": "b1076dfc-b9ad-4769-8c92-a6c4dae69d19",
    "_uuid": "8f2839f25d086af736a60e9eeb907d3b93b6e0e5",
    "execution": {
     "iopub.execute_input": "2023-07-13T18:58:06.633859Z",
     "iopub.status.busy": "2023-07-13T18:58:06.633442Z",
     "iopub.status.idle": "2023-07-13T18:58:15.861373Z",
     "shell.execute_reply": "2023-07-13T18:58:15.859974Z"
    },
    "papermill": {
     "duration": 9.235398,
     "end_time": "2023-07-13T18:58:15.863963",
     "exception": false,
     "start_time": "2023-07-13T18:58:06.628565",
     "status": "completed"
    },
    "tags": []
   },
   "outputs": [
    {
     "name": "stderr",
     "output_type": "stream",
     "text": [
      "/opt/conda/lib/python3.10/site-packages/tensorflow_io/python/ops/__init__.py:98: UserWarning: unable to load libtensorflow_io_plugins.so: unable to open file: libtensorflow_io_plugins.so, from paths: ['/opt/conda/lib/python3.10/site-packages/tensorflow_io/python/ops/libtensorflow_io_plugins.so']\n",
      "caused by: ['/opt/conda/lib/python3.10/site-packages/tensorflow_io/python/ops/libtensorflow_io_plugins.so: undefined symbol: _ZN3tsl6StatusC1EN10tensorflow5error4CodeESt17basic_string_viewIcSt11char_traitsIcEENS_14SourceLocationE']\n",
      "  warnings.warn(f\"unable to load libtensorflow_io_plugins.so: {e}\")\n",
      "/opt/conda/lib/python3.10/site-packages/tensorflow_io/python/ops/__init__.py:104: UserWarning: file system plugins are not loaded: unable to open file: libtensorflow_io.so, from paths: ['/opt/conda/lib/python3.10/site-packages/tensorflow_io/python/ops/libtensorflow_io.so']\n",
      "caused by: ['/opt/conda/lib/python3.10/site-packages/tensorflow_io/python/ops/libtensorflow_io.so: undefined symbol: _ZTVN10tensorflow13GcsFileSystemE']\n",
      "  warnings.warn(f\"file system plugins are not loaded: {e}\")\n"
     ]
    },
    {
     "name": "stdout",
     "output_type": "stream",
     "text": [
      "All Done!!\n"
     ]
    }
   ],
   "source": [
    "\n",
    "import cv2 \n",
    "import numpy as np\n",
    "import pandas as pd\n",
    "import os\n",
    "import xml.etree.ElementTree as ET\n",
    "\n",
    "import tensorflow as tf\n",
    "from tensorflow.keras.preprocessing.image import ImageDataGenerator\n",
    "from tensorflow.keras.preprocessing import image\n",
    "from tensorflow.keras.optimizers import RMSprop\n",
    "\n",
    "print(\"All Done!!\")"
   ]
  },
  {
   "cell_type": "markdown",
   "id": "fce1a3ec",
   "metadata": {
    "papermill": {
     "duration": 0.002306,
     "end_time": "2023-07-13T18:58:15.869151",
     "exception": false,
     "start_time": "2023-07-13T18:58:15.866845",
     "status": "completed"
    },
    "tags": []
   },
   "source": [
    "# Getting the code into a panda's DataFrame"
   ]
  },
  {
   "cell_type": "code",
   "execution_count": 2,
   "id": "70e1b263",
   "metadata": {
    "execution": {
     "iopub.execute_input": "2023-07-13T18:58:15.876144Z",
     "iopub.status.busy": "2023-07-13T18:58:15.875417Z",
     "iopub.status.idle": "2023-07-13T18:58:26.799843Z",
     "shell.execute_reply": "2023-07-13T18:58:26.798660Z"
    },
    "papermill": {
     "duration": 10.930803,
     "end_time": "2023-07-13T18:58:26.802386",
     "exception": false,
     "start_time": "2023-07-13T18:58:15.871583",
     "status": "completed"
    },
    "tags": []
   },
   "outputs": [],
   "source": [
    "# Put data into pandas dataframe: \n",
    "\n",
    "# Columns: file_name, object_id, mask_status, location_on_img\n",
    "data = {\n",
    "    'filename':[],# Picture object is in\n",
    "    'file_num':[],\n",
    "    'object_id':[],  # Unique ID formula = file_name number + '-' + Object number\n",
    "    'mask_status':[],  # with_mask, without_mask, mask_worn_incorrectly\n",
    "    'location_on_img':[]  # (xmin, ymin, xmax, ymax) --> square\n",
    "}\n",
    "\n",
    "\n",
    "directory_path = '/kaggle/input/face-mask-detection/annotations'\n",
    "xml_files = os.listdir(directory_path)\n",
    "\n",
    "def remove_char(string: str):\n",
    "    done = \"\"\n",
    "    for char in string: \n",
    "        if char=='1' or char=='2' or char=='3' or char=='4' or char=='5' or char=='6' or char=='7' or char=='8' or char=='9' or char=='0':\n",
    "            done = done + char\n",
    "    return done            \n",
    "\n",
    "def read_xml_file(xml_file):\n",
    "    tree = ET.parse(os.path.join(directory_path, xml_file))\n",
    "    root = tree.getroot()\n",
    "    file_name = root.find(\"filename\").text\n",
    "    \n",
    "    objects = root.findall('object')  # List of objects\n",
    "    for i, obj in enumerate(objects): \n",
    "        #print(str(len(objects)) + \" - \" + str(file_name) + \"-\" + str(i))\n",
    "        data['filename'].append(file_name)\n",
    "        data['object_id'].append(remove_char(file_name) + \"-\" + str(i)) \n",
    "        data['file_num'].append(remove_char(file_name))\n",
    "        data['mask_status'].append(obj.find('name').text)\n",
    "        data['location_on_img'].append((\n",
    "            int(obj.find('bndbox/xmin').text),\n",
    "            int(obj.find('bndbox/ymin').text),\n",
    "            int(obj.find('bndbox/xmax').text),\n",
    "            int(obj.find('bndbox/ymax').text)\n",
    "        ))\n",
    "                    \n",
    "for file in xml_files: \n",
    "    #print(file)\n",
    "    read_xml_file(file)\n",
    "    \n",
    "df = pd.DataFrame(data)\n",
    "df['file_num'] = pd.to_numeric(df['file_num'])\n",
    "df = df.sort_values('file_num')\n",
    "del df['file_num']\n",
    "\n",
    "# Uncomment to display DataFrame\n",
    "#df.head(100)\n",
    "\n",
    "    "
   ]
  },
  {
   "cell_type": "markdown",
   "id": "3c96b8b5",
   "metadata": {
    "papermill": {
     "duration": 0.002424,
     "end_time": "2023-07-13T18:58:26.807623",
     "exception": false,
     "start_time": "2023-07-13T18:58:26.805199",
     "status": "completed"
    },
    "tags": []
   },
   "source": [
    "## Splitting the Data into Testing and Training\n",
    "Remember to insert the actual images into the train_test_split"
   ]
  },
  {
   "cell_type": "code",
   "execution_count": 3,
   "id": "7a31fb9c",
   "metadata": {
    "execution": {
     "iopub.execute_input": "2023-07-13T18:58:26.815097Z",
     "iopub.status.busy": "2023-07-13T18:58:26.814253Z",
     "iopub.status.idle": "2023-07-13T19:00:07.577046Z",
     "shell.execute_reply": "2023-07-13T19:00:07.575921Z"
    },
    "papermill": {
     "duration": 100.771205,
     "end_time": "2023-07-13T19:00:07.581297",
     "exception": false,
     "start_time": "2023-07-13T18:58:26.810092",
     "status": "completed"
    },
    "tags": []
   },
   "outputs": [
    {
     "name": "stderr",
     "output_type": "stream",
     "text": [
      "libpng warning: iCCP: Not recognizing known sRGB profile that has been edited\n",
      "libpng warning: iCCP: Not recognizing known sRGB profile that has been edited\n",
      "libpng warning: iCCP: Not recognizing known sRGB profile that has been edited\n",
      "libpng warning: iCCP: Not recognizing known sRGB profile that has been edited\n",
      "libpng warning: iCCP: Not recognizing known sRGB profile that has been edited\n"
     ]
    },
    {
     "name": "stdout",
     "output_type": "stream",
     "text": [
      "(4072, 150, 150, 3)\n"
     ]
    }
   ],
   "source": [
    "from sklearn.model_selection import train_test_split\n",
    "\n",
    "# Read and preprocess the images\n",
    "image_data = []\n",
    "img_dir_path = '/kaggle/input/face-mask-detection/images'\n",
    "for file_name in df['filename']:\n",
    "    image = cv2.imread(img_dir_path + \"/\" + str(file_name))  # Read the image using OpenCV\n",
    "    \n",
    "    # Perform any necessary preprocessing steps, such as resizing or normalizing the image\n",
    "    preprocessed_image = cv2.resize(image, (150,150))\n",
    "    image_data.append(preprocessed_image)\n",
    "\n",
    "# Convert the list of preprocessed images into a numpy array\n",
    "pictures = np.array(image_data)\n",
    "\n",
    "# Print the shape of X to verify\n",
    "print(pictures.shape)\n",
    "\n",
    "labels = df['mask_status']  \n",
    "x_train, x_test, y_train, y_test = train_test_split(pictures, labels, test_size=0.2, random_state=50)  # 80% Train, 20% Test\n"
   ]
  },
  {
   "cell_type": "markdown",
   "id": "59ad6fdc",
   "metadata": {
    "papermill": {
     "duration": 0.002744,
     "end_time": "2023-07-13T19:00:07.586859",
     "exception": false,
     "start_time": "2023-07-13T19:00:07.584115",
     "status": "completed"
    },
    "tags": []
   },
   "source": [
    "## Building the CNN Model Architecture "
   ]
  },
  {
   "cell_type": "code",
   "execution_count": 4,
   "id": "c16cc783",
   "metadata": {
    "execution": {
     "iopub.execute_input": "2023-07-13T19:00:07.593903Z",
     "iopub.status.busy": "2023-07-13T19:00:07.593476Z",
     "iopub.status.idle": "2023-07-13T19:00:07.913683Z",
     "shell.execute_reply": "2023-07-13T19:00:07.912948Z"
    },
    "papermill": {
     "duration": 0.331629,
     "end_time": "2023-07-13T19:00:07.921099",
     "exception": false,
     "start_time": "2023-07-13T19:00:07.589470",
     "status": "completed"
    },
    "tags": []
   },
   "outputs": [
    {
     "name": "stdout",
     "output_type": "stream",
     "text": [
      "Model: \"sequential\"\n",
      "_________________________________________________________________\n",
      " Layer (type)                Output Shape              Param #   \n",
      "=================================================================\n",
      " conv2d (Conv2D)             (None, 148, 148, 32)      896       \n",
      "                                                                 \n",
      " max_pooling2d (MaxPooling2D  (None, 74, 74, 32)       0         \n",
      " )                                                               \n",
      "                                                                 \n",
      " conv2d_1 (Conv2D)           (None, 72, 72, 64)        18496     \n",
      "                                                                 \n",
      " max_pooling2d_1 (MaxPooling  (None, 36, 36, 64)       0         \n",
      " 2D)                                                             \n",
      "                                                                 \n",
      " flatten (Flatten)           (None, 82944)             0         \n",
      "                                                                 \n",
      " dense (Dense)               (None, 64)                5308480   \n",
      "                                                                 \n",
      " dense_1 (Dense)             (None, 3)                 195       \n",
      "                                                                 \n",
      "=================================================================\n",
      "Total params: 5,328,067\n",
      "Trainable params: 5,328,067\n",
      "Non-trainable params: 0\n",
      "_________________________________________________________________\n"
     ]
    }
   ],
   "source": [
    "image_height = 150\n",
    "image_width = 150\n",
    "num_channels = 3\n",
    "num_classes = 3\n",
    "\n",
    "# Define the CNN model architecture\n",
    "model = tf.keras.Sequential([\n",
    "    tf.keras.layers.Conv2D(32, (3, 3), activation='relu', input_shape=(image_height, image_width, num_channels)),\n",
    "    tf.keras.layers.MaxPooling2D((2, 2)),\n",
    "    tf.keras.layers.Conv2D(64, (3, 3), activation='relu'),\n",
    "    tf.keras.layers.MaxPooling2D((2, 2)),\n",
    "    tf.keras.layers.Flatten(),\n",
    "    tf.keras.layers.Dense(64, activation='relu'),\n",
    "    tf.keras.layers.Dense(num_classes, activation='softmax')\n",
    "])\n",
    "\n",
    "# Compile the model\n",
    "model.compile(optimizer='adam',\n",
    "              loss=tf.keras.losses.SparseCategoricalCrossentropy(from_logits=True),\n",
    "              metrics=['accuracy'])\n",
    "\n",
    "# Print the model summary\n",
    "model.summary()\n"
   ]
  }
 ],
 "metadata": {
  "kernelspec": {
   "display_name": "Python 3",
   "language": "python",
   "name": "python3"
  },
  "language_info": {
   "codemirror_mode": {
    "name": "ipython",
    "version": 3
   },
   "file_extension": ".py",
   "mimetype": "text/x-python",
   "name": "python",
   "nbconvert_exporter": "python",
   "pygments_lexer": "ipython3",
   "version": "3.10.10"
  },
  "papermill": {
   "default_parameters": {},
   "duration": 136.132789,
   "end_time": "2023-07-13T19:00:11.046460",
   "environment_variables": {},
   "exception": null,
   "input_path": "__notebook__.ipynb",
   "output_path": "__notebook__.ipynb",
   "parameters": {},
   "start_time": "2023-07-13T18:57:54.913671",
   "version": "2.4.0"
  }
 },
 "nbformat": 4,
 "nbformat_minor": 5
}
